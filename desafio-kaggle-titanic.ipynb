{
 "cells": [
  {
   "cell_type": "markdown",
   "metadata": {},
   "source": [
    "## Desafio Kaggle: Titanic - Machine Learning from Disaster\n",
    "#### https://www.kaggle.com/c/titanic/overview"
   ]
  },
  {
   "cell_type": "markdown",
   "metadata": {},
   "source": [
    "### Imports das bibliotecas"
   ]
  },
  {
   "cell_type": "code",
   "execution_count": 1,
   "metadata": {
    "ExecuteTime": {
     "end_time": "2020-04-03T11:09:55.233517Z",
     "start_time": "2020-04-03T11:09:54.757400Z"
    }
   },
   "outputs": [],
   "source": [
    "import numpy as np\n",
    "import pandas as pd\n",
    "import seaborn as sns\n",
    "import matplotlib.pyplot as plt\n",
    "\n",
    "from sklearn.linear_model import LogisticRegression\n",
    "from sklearn.svm import SVC, LinearSVC\n",
    "from sklearn.ensemble import RandomForestClassifier\n",
    "from sklearn.neighbors import KNeighborsClassifier\n",
    "from sklearn.naive_bayes import GaussianNB\n",
    "from sklearn.linear_model import Perceptron\n",
    "from sklearn.linear_model import SGDClassifier\n",
    "from sklearn.tree import DecisionTreeClassifier\n",
    "\n",
    "color = sns.color_palette()\n",
    "sns.set_style('darkgrid')\n",
    "\n",
    "%matplotlib inline\n",
    "\n",
    "import warnings\n",
    "warnings.filterwarnings('ignore')\n",
    "\n",
    "import logging\n",
    "logging.basicConfig(format='%(asctime)s : %(levelname)s : %(message)s', level=logging.INFO)"
   ]
  },
  {
   "cell_type": "markdown",
   "metadata": {},
   "source": [
    "### Carregamento dos dados"
   ]
  },
  {
   "cell_type": "code",
   "execution_count": 2,
   "metadata": {
    "ExecuteTime": {
     "end_time": "2020-04-03T11:10:14.223791Z",
     "start_time": "2020-04-03T11:10:14.194474Z"
    }
   },
   "outputs": [
    {
     "name": "stdout",
     "output_type": "stream",
     "text": [
      "Train: (891, 12)\n",
      "\n",
      "Test: (418, 11)\n"
     ]
    }
   ],
   "source": [
    "train = pd.read_csv('data/train.csv')\n",
    "print('Train: {}'.format(train.shape))\n",
    "test = pd.read_csv('data/test.csv')\n",
    "print('\\nTest: {}'.format(test.shape))\n",
    "\n",
    "combine = [train, test]"
   ]
  },
  {
   "cell_type": "markdown",
   "metadata": {},
   "source": [
    "### Descrição do conjunto de dados"
   ]
  },
  {
   "cell_type": "markdown",
   "metadata": {},
   "source": [
    "Esse conjunto contém dados dos passageiros do Titanic. Em 15 de abril de 1912, durante sua viagem inaugural, o RMS Titanic afundou após colidir com um iceberg. Infelizmente, não havia botes salva-vidas suficientes para todos a bordo, resultando na morte de 1502 dos 2224 passageiros e tripulantes."
   ]
  },
  {
   "cell_type": "markdown",
   "metadata": {},
   "source": [
    "### Características do conjunto"
   ]
  },
  {
   "cell_type": "markdown",
   "metadata": {
    "ExecuteTime": {
     "end_time": "2020-03-31T10:54:41.788662Z",
     "start_time": "2020-03-31T10:54:41.783233Z"
    }
   },
   "source": [
    "##### 2 classes\n",
    "##### 1309 exemplos\n",
    "##### 12 features"
   ]
  },
  {
   "cell_type": "markdown",
   "metadata": {},
   "source": [
    "- PassengerId: identificador do passageiro;\n",
    "- Survived: sobrevivência. 0= não e 1= sim;\n",
    "- Pclass: classe da passagem. 1= primeira classe, 2= segunda e 3= terceira;\n",
    "- Name: nome do passageiro;\n",
    "- Sex: sexo;\n",
    "- Age: idade;\n",
    "- SibSp: número de irmãos/cônjuges a bordo;\n",
    "- Parch: número de pais/filhos a bordo;\n",
    "- Ticket: número da passagem;\n",
    "- Fare: valor da tarifa;\n",
    "- Cabin: número da cabine;\n",
    "- Embarked: local de embarque. C= Cherbourg, Q= Queenstown, S= Southampton"
   ]
  },
  {
   "cell_type": "code",
   "execution_count": 4,
   "metadata": {
    "ExecuteTime": {
     "end_time": "2020-04-03T11:10:42.005138Z",
     "start_time": "2020-04-03T11:10:42.002164Z"
    }
   },
   "outputs": [
    {
     "name": "stdout",
     "output_type": "stream",
     "text": [
      "Colunas presentes: ['PassengerId' 'Survived' 'Pclass' 'Name' 'Sex' 'Age' 'SibSp' 'Parch'\n",
      " 'Ticket' 'Fare' 'Cabin' 'Embarked']\n"
     ]
    }
   ],
   "source": [
    "print('Colunas presentes: {}'.format(train.columns.values))"
   ]
  },
  {
   "cell_type": "code",
   "execution_count": 5,
   "metadata": {
    "ExecuteTime": {
     "end_time": "2020-04-03T11:10:52.210498Z",
     "start_time": "2020-04-03T11:10:52.203242Z"
    }
   },
   "outputs": [
    {
     "name": "stdout",
     "output_type": "stream",
     "text": [
      "<class 'pandas.core.frame.DataFrame'>\n",
      "RangeIndex: 891 entries, 0 to 890\n",
      "Data columns (total 12 columns):\n",
      "PassengerId    891 non-null int64\n",
      "Survived       891 non-null int64\n",
      "Pclass         891 non-null int64\n",
      "Name           891 non-null object\n",
      "Sex            891 non-null object\n",
      "Age            714 non-null float64\n",
      "SibSp          891 non-null int64\n",
      "Parch          891 non-null int64\n",
      "Ticket         891 non-null object\n",
      "Fare           891 non-null float64\n",
      "Cabin          204 non-null object\n",
      "Embarked       889 non-null object\n",
      "dtypes: float64(2), int64(5), object(5)\n",
      "memory usage: 83.6+ KB\n",
      "None\n"
     ]
    }
   ],
   "source": [
    "print(train.info())"
   ]
  },
  {
   "cell_type": "markdown",
   "metadata": {},
   "source": [
    "### Remove a coluna id dos dados"
   ]
  },
  {
   "cell_type": "code",
   "execution_count": 6,
   "metadata": {
    "ExecuteTime": {
     "end_time": "2020-04-03T11:11:03.700339Z",
     "start_time": "2020-04-03T11:11:03.684610Z"
    }
   },
   "outputs": [],
   "source": [
    "trainPassengerId = train['PassengerId']\n",
    "train.drop(['PassengerId'], axis=1, inplace=True)\n",
    "\n",
    "testPassengerId = test['PassengerId']\n",
    "test.drop(['PassengerId'], axis=1, inplace=True)"
   ]
  },
  {
   "cell_type": "markdown",
   "metadata": {},
   "source": [
    "### Exploração dos dados"
   ]
  },
  {
   "cell_type": "code",
   "execution_count": 7,
   "metadata": {
    "ExecuteTime": {
     "end_time": "2020-04-03T11:11:39.551615Z",
     "start_time": "2020-04-03T11:11:39.527068Z"
    }
   },
   "outputs": [
    {
     "data": {
      "text/html": [
       "<div>\n",
       "<style scoped>\n",
       "    .dataframe tbody tr th:only-of-type {\n",
       "        vertical-align: middle;\n",
       "    }\n",
       "\n",
       "    .dataframe tbody tr th {\n",
       "        vertical-align: top;\n",
       "    }\n",
       "\n",
       "    .dataframe thead th {\n",
       "        text-align: right;\n",
       "    }\n",
       "</style>\n",
       "<table border=\"1\" class=\"dataframe\">\n",
       "  <thead>\n",
       "    <tr style=\"text-align: right;\">\n",
       "      <th></th>\n",
       "      <th>Survived</th>\n",
       "      <th>Pclass</th>\n",
       "      <th>Age</th>\n",
       "      <th>SibSp</th>\n",
       "      <th>Parch</th>\n",
       "      <th>Fare</th>\n",
       "    </tr>\n",
       "  </thead>\n",
       "  <tbody>\n",
       "    <tr>\n",
       "      <th>count</th>\n",
       "      <td>891.000000</td>\n",
       "      <td>891.000000</td>\n",
       "      <td>714.000000</td>\n",
       "      <td>891.000000</td>\n",
       "      <td>891.000000</td>\n",
       "      <td>891.000000</td>\n",
       "    </tr>\n",
       "    <tr>\n",
       "      <th>mean</th>\n",
       "      <td>0.383838</td>\n",
       "      <td>2.308642</td>\n",
       "      <td>29.699118</td>\n",
       "      <td>0.523008</td>\n",
       "      <td>0.381594</td>\n",
       "      <td>32.204208</td>\n",
       "    </tr>\n",
       "    <tr>\n",
       "      <th>std</th>\n",
       "      <td>0.486592</td>\n",
       "      <td>0.836071</td>\n",
       "      <td>14.526497</td>\n",
       "      <td>1.102743</td>\n",
       "      <td>0.806057</td>\n",
       "      <td>49.693429</td>\n",
       "    </tr>\n",
       "    <tr>\n",
       "      <th>min</th>\n",
       "      <td>0.000000</td>\n",
       "      <td>1.000000</td>\n",
       "      <td>0.420000</td>\n",
       "      <td>0.000000</td>\n",
       "      <td>0.000000</td>\n",
       "      <td>0.000000</td>\n",
       "    </tr>\n",
       "    <tr>\n",
       "      <th>25%</th>\n",
       "      <td>0.000000</td>\n",
       "      <td>2.000000</td>\n",
       "      <td>20.125000</td>\n",
       "      <td>0.000000</td>\n",
       "      <td>0.000000</td>\n",
       "      <td>7.910400</td>\n",
       "    </tr>\n",
       "    <tr>\n",
       "      <th>50%</th>\n",
       "      <td>0.000000</td>\n",
       "      <td>3.000000</td>\n",
       "      <td>28.000000</td>\n",
       "      <td>0.000000</td>\n",
       "      <td>0.000000</td>\n",
       "      <td>14.454200</td>\n",
       "    </tr>\n",
       "    <tr>\n",
       "      <th>75%</th>\n",
       "      <td>1.000000</td>\n",
       "      <td>3.000000</td>\n",
       "      <td>38.000000</td>\n",
       "      <td>1.000000</td>\n",
       "      <td>0.000000</td>\n",
       "      <td>31.000000</td>\n",
       "    </tr>\n",
       "    <tr>\n",
       "      <th>max</th>\n",
       "      <td>1.000000</td>\n",
       "      <td>3.000000</td>\n",
       "      <td>80.000000</td>\n",
       "      <td>8.000000</td>\n",
       "      <td>6.000000</td>\n",
       "      <td>512.329200</td>\n",
       "    </tr>\n",
       "  </tbody>\n",
       "</table>\n",
       "</div>"
      ],
      "text/plain": [
       "         Survived      Pclass         Age       SibSp       Parch        Fare\n",
       "count  891.000000  891.000000  714.000000  891.000000  891.000000  891.000000\n",
       "mean     0.383838    2.308642   29.699118    0.523008    0.381594   32.204208\n",
       "std      0.486592    0.836071   14.526497    1.102743    0.806057   49.693429\n",
       "min      0.000000    1.000000    0.420000    0.000000    0.000000    0.000000\n",
       "25%      0.000000    2.000000   20.125000    0.000000    0.000000    7.910400\n",
       "50%      0.000000    3.000000   28.000000    0.000000    0.000000   14.454200\n",
       "75%      1.000000    3.000000   38.000000    1.000000    0.000000   31.000000\n",
       "max      1.000000    3.000000   80.000000    8.000000    6.000000  512.329200"
      ]
     },
     "execution_count": 7,
     "metadata": {},
     "output_type": "execute_result"
    }
   ],
   "source": [
    "train.describe()"
   ]
  },
  {
   "cell_type": "code",
   "execution_count": 8,
   "metadata": {
    "ExecuteTime": {
     "end_time": "2020-04-03T11:11:40.311537Z",
     "start_time": "2020-04-03T11:11:40.289586Z"
    }
   },
   "outputs": [
    {
     "data": {
      "text/html": [
       "<div>\n",
       "<style scoped>\n",
       "    .dataframe tbody tr th:only-of-type {\n",
       "        vertical-align: middle;\n",
       "    }\n",
       "\n",
       "    .dataframe tbody tr th {\n",
       "        vertical-align: top;\n",
       "    }\n",
       "\n",
       "    .dataframe thead th {\n",
       "        text-align: right;\n",
       "    }\n",
       "</style>\n",
       "<table border=\"1\" class=\"dataframe\">\n",
       "  <thead>\n",
       "    <tr style=\"text-align: right;\">\n",
       "      <th></th>\n",
       "      <th>Name</th>\n",
       "      <th>Sex</th>\n",
       "      <th>Ticket</th>\n",
       "      <th>Cabin</th>\n",
       "      <th>Embarked</th>\n",
       "    </tr>\n",
       "  </thead>\n",
       "  <tbody>\n",
       "    <tr>\n",
       "      <th>count</th>\n",
       "      <td>891</td>\n",
       "      <td>891</td>\n",
       "      <td>891</td>\n",
       "      <td>204</td>\n",
       "      <td>889</td>\n",
       "    </tr>\n",
       "    <tr>\n",
       "      <th>unique</th>\n",
       "      <td>891</td>\n",
       "      <td>2</td>\n",
       "      <td>681</td>\n",
       "      <td>147</td>\n",
       "      <td>3</td>\n",
       "    </tr>\n",
       "    <tr>\n",
       "      <th>top</th>\n",
       "      <td>Nilsson, Miss. Helmina Josefina</td>\n",
       "      <td>male</td>\n",
       "      <td>1601</td>\n",
       "      <td>B96 B98</td>\n",
       "      <td>S</td>\n",
       "    </tr>\n",
       "    <tr>\n",
       "      <th>freq</th>\n",
       "      <td>1</td>\n",
       "      <td>577</td>\n",
       "      <td>7</td>\n",
       "      <td>4</td>\n",
       "      <td>644</td>\n",
       "    </tr>\n",
       "  </tbody>\n",
       "</table>\n",
       "</div>"
      ],
      "text/plain": [
       "                                   Name   Sex Ticket    Cabin Embarked\n",
       "count                               891   891    891      204      889\n",
       "unique                              891     2    681      147        3\n",
       "top     Nilsson, Miss. Helmina Josefina  male   1601  B96 B98        S\n",
       "freq                                  1   577      7        4      644"
      ]
     },
     "execution_count": 8,
     "metadata": {},
     "output_type": "execute_result"
    }
   ],
   "source": [
    "train.describe(include=['O'])"
   ]
  },
  {
   "cell_type": "markdown",
   "metadata": {},
   "source": [
    "### Pré-processamento dos dados"
   ]
  },
  {
   "cell_type": "markdown",
   "metadata": {},
   "source": [
    "#### Renomeia as colunas"
   ]
  },
  {
   "cell_type": "code",
   "execution_count": 13,
   "metadata": {
    "ExecuteTime": {
     "end_time": "2020-04-03T11:13:01.641703Z",
     "start_time": "2020-04-03T11:13:01.637809Z"
    }
   },
   "outputs": [],
   "source": [
    "cols = {\n",
    "    'Survived': 'sobrevivente',\n",
    "    'Pclass': 'classe',\n",
    "    'Name': 'nome',\n",
    "    'Sex': 'sexo',\n",
    "    'Age': 'idade',\n",
    "    'SibSp': 'irmaosEconjunges',\n",
    "    'Parch': 'paisEfilhos',\n",
    "    'Ticket': 'passagem',\n",
    "    'Fare': 'tarifa',\n",
    "    'Cabin': 'cabine',\n",
    "    'Embarked': 'embarque'\n",
    "}\n",
    "\n",
    "train = train.rename(columns=cols)"
   ]
  },
  {
   "cell_type": "code",
   "execution_count": 11,
   "metadata": {
    "ExecuteTime": {
     "end_time": "2020-04-03T11:12:39.335926Z",
     "start_time": "2020-04-03T11:12:39.329919Z"
    }
   },
   "outputs": [],
   "source": [
    "cols = {\n",
    "    'Pclass': 'classe',\n",
    "    'Name': 'nome',\n",
    "    'Sex': 'sexo',\n",
    "    'Age': 'idade',\n",
    "    'SibSp': 'irmaosEconjunges',\n",
    "    'Parch': 'paisEfilhos',\n",
    "    'Ticket': 'passagem',\n",
    "    'Fare': 'tarifa',\n",
    "    'Cabin': 'cabine',\n",
    "    'Embarked': 'embarque'\n",
    "}\n",
    "\n",
    "test = test.rename(columns=cols)"
   ]
  },
  {
   "cell_type": "markdown",
   "metadata": {},
   "source": [
    "#### Valores faltantes"
   ]
  },
  {
   "cell_type": "code",
   "execution_count": 16,
   "metadata": {
    "ExecuteTime": {
     "end_time": "2020-04-03T11:15:13.745570Z",
     "start_time": "2020-04-03T11:15:13.740829Z"
    }
   },
   "outputs": [
    {
     "name": "stdout",
     "output_type": "stream",
     "text": [
      "Valores faltantes treino: \n",
      "sobrevivente         0.000000\n",
      "classe               0.000000\n",
      "nome                 0.000000\n",
      "sexo                 0.000000\n",
      "idade               19.865320\n",
      "irmaosEconjunges     0.000000\n",
      "paisEfilhos          0.000000\n",
      "passagem             0.000000\n",
      "tarifa               0.000000\n",
      "cabine              77.104377\n",
      "embarque             0.224467\n",
      "dtype: float64\n"
     ]
    }
   ],
   "source": [
    "print('Valores faltantes treino: \\n{}'.format(train.isnull().mean()* 100))"
   ]
  },
  {
   "cell_type": "code",
   "execution_count": 18,
   "metadata": {
    "ExecuteTime": {
     "end_time": "2020-04-03T11:15:28.636622Z",
     "start_time": "2020-04-03T11:15:28.620722Z"
    }
   },
   "outputs": [
    {
     "name": "stdout",
     "output_type": "stream",
     "text": [
      "Valores faltantes teste: \n",
      "classe               0.000000\n",
      "nome                 0.000000\n",
      "sexo                 0.000000\n",
      "idade               20.574163\n",
      "irmaosEconjunges     0.000000\n",
      "paisEfilhos          0.000000\n",
      "passagem             0.000000\n",
      "tarifa               0.239234\n",
      "cabine              78.229665\n",
      "embarque             0.000000\n",
      "dtype: float64\n"
     ]
    }
   ],
   "source": [
    "print('Valores faltantes teste: \\n{}'.format(test.isnull().mean()* 100))"
   ]
  },
  {
   "cell_type": "markdown",
   "metadata": {},
   "source": [
    "#### Tratando os dados nulos"
   ]
  },
  {
   "cell_type": "code",
   "execution_count": 19,
   "metadata": {
    "ExecuteTime": {
     "end_time": "2020-04-03T11:15:55.750597Z",
     "start_time": "2020-04-03T11:15:55.735718Z"
    }
   },
   "outputs": [],
   "source": [
    "train.drop(['cabine'], axis=1, inplace=True)\n",
    "test.drop(['cabine'], axis=1, inplace=True)"
   ]
  },
  {
   "cell_type": "code",
   "execution_count": 20,
   "metadata": {
    "ExecuteTime": {
     "end_time": "2020-04-03T11:16:44.596721Z",
     "start_time": "2020-04-03T11:16:44.584525Z"
    }
   },
   "outputs": [],
   "source": [
    "cols = ['idade', 'tarifa']\n",
    "\n",
    "for c in cols:\n",
    "    train[c] = train[c].fillna(train[c].mean())\n",
    "    test[c] = test[c].fillna(test[c].mean())"
   ]
  },
  {
   "cell_type": "code",
   "execution_count": 22,
   "metadata": {
    "ExecuteTime": {
     "end_time": "2020-04-03T11:17:53.598350Z",
     "start_time": "2020-04-03T11:17:53.582906Z"
    }
   },
   "outputs": [],
   "source": [
    "cols = ['sobrevivente', 'embarque']\n",
    "\n",
    "for c in cols:\n",
    "    train[c] = train[c].fillna(train[c].mode()[0])\n",
    "    \n",
    "test['embarque'] = test['embarque'].fillna(test['embarque'].mode()[0])"
   ]
  },
  {
   "cell_type": "markdown",
   "metadata": {},
   "source": [
    "#### Valores duplicados"
   ]
  },
  {
   "cell_type": "code",
   "execution_count": 24,
   "metadata": {
    "ExecuteTime": {
     "end_time": "2020-04-03T11:18:29.448243Z",
     "start_time": "2020-04-03T11:18:29.438821Z"
    }
   },
   "outputs": [
    {
     "name": "stdout",
     "output_type": "stream",
     "text": [
      "Valores duplicados treino: 0.0\n",
      "Valores duplicados teste: 0.0\n"
     ]
    }
   ],
   "source": [
    "print('Valores duplicados treino: {}'.format(train.duplicated().mean()*100))\n",
    "print('Valores duplicados teste: {}'.format(test.duplicated().mean()*100))"
   ]
  },
  {
   "cell_type": "markdown",
   "metadata": {},
   "source": [
    "#### Conversão de valores"
   ]
  },
  {
   "cell_type": "code",
   "execution_count": 56,
   "metadata": {
    "ExecuteTime": {
     "end_time": "2020-04-03T11:31:48.745214Z",
     "start_time": "2020-04-03T11:31:48.741408Z"
    }
   },
   "outputs": [],
   "source": [
    "cols = ['idade', 'sobrevivente']\n",
    "\n",
    "for c in cols:\n",
    "    train[c] = train[c].astype(int)\n",
    "    \n",
    "test['idade'] = test['idade'].astype(int)"
   ]
  },
  {
   "cell_type": "markdown",
   "metadata": {},
   "source": [
    "#### Engenharia de recursos"
   ]
  },
  {
   "cell_type": "code",
   "execution_count": 44,
   "metadata": {
    "ExecuteTime": {
     "end_time": "2020-04-03T11:30:58.095577Z",
     "start_time": "2020-04-03T11:30:58.072823Z"
    }
   },
   "outputs": [
    {
     "name": "stdout",
     "output_type": "stream",
     "text": [
      "Impacto da Classe no conjunto de dados:\n",
      "\n",
      "   classe  sobrevivente\n",
      "0       1      0.629630\n",
      "1       2      0.472826\n",
      "2       3      0.242363\n"
     ]
    }
   ],
   "source": [
    "classe = train[['classe', 'sobrevivente']].groupby(['classe'], as_index=False).mean().sort_values(by='sobrevivente', \n",
    "                                                                                               ascending=False)\n",
    "print('Impacto da Classe no conjunto de dados:\\n')\n",
    "print(classe)"
   ]
  },
  {
   "cell_type": "code",
   "execution_count": 45,
   "metadata": {
    "ExecuteTime": {
     "end_time": "2020-04-03T11:30:59.326992Z",
     "start_time": "2020-04-03T11:30:59.198073Z"
    }
   },
   "outputs": [
    {
     "data": {
      "text/plain": [
       "Text(0.5, 1.0, 'Média de sobreviventes por classe')"
      ]
     },
     "execution_count": 45,
     "metadata": {},
     "output_type": "execute_result"
    },
    {
     "data": {
      "image/png": "[encoded data removed]",
      "text/plain": [
       "<Figure size 720x360 with 1 Axes>"
      ]
     },
     "metadata": {
      "needs_background": "light"
     },
     "output_type": "display_data"
    }
   ],
   "source": [
    "f, ax= plt.subplots(figsize=(10, 5))\n",
    "sns.barplot(x=classe['classe'], y=classe['sobrevivente'])\n",
    "\n",
    "plt.ylim(0, 0.70)\n",
    "plt.xlabel('Classe')\n",
    "plt.ylabel('Média')\n",
    "plt.title('Média de sobreviventes por classe')"
   ]
  },
  {
   "cell_type": "code",
   "execution_count": 46,
   "metadata": {
    "ExecuteTime": {
     "end_time": "2020-04-03T11:31:00.228102Z",
     "start_time": "2020-04-03T11:31:00.219749Z"
    }
   },
   "outputs": [
    {
     "name": "stdout",
     "output_type": "stream",
     "text": [
      "Impacto do sexo no conjunto de dados:\n",
      "\n",
      "     sexo  sobrevivente\n",
      "0  female      0.742038\n",
      "1    male      0.188908\n"
     ]
    }
   ],
   "source": [
    "sexo = train[['sexo', 'sobrevivente']].groupby(['sexo'], as_index=False).mean().sort_values(by='sobrevivente', ascending=False)\n",
    "print('Impacto do sexo no conjunto de dados:\\n')\n",
    "print(sexo)"
   ]
  },
  {
   "cell_type": "code",
   "execution_count": 47,
   "metadata": {
    "ExecuteTime": {
     "end_time": "2020-04-03T11:31:01.273294Z",
     "start_time": "2020-04-03T11:31:01.137663Z"
    }
   },
   "outputs": [
    {
     "data": {
      "text/plain": [
       "Text(0.5, 1.0, 'Média de sobreviventes por sexo')"
      ]
     },
     "execution_count": 47,
     "metadata": {},
     "output_type": "execute_result"
    },
    {
     "data": {
      "image/png": "[encoded data removed]",
      "text/plain": [
       "<Figure size 720x360 with 1 Axes>"
      ]
     },
     "metadata": {
      "needs_background": "light"
     },
     "output_type": "display_data"
    }
   ],
   "source": [
    "f, ax= plt.subplots(figsize=(10, 5))\n",
    "sns.barplot(x=sexo['sexo'], y=sexo['sobrevivente'])\n",
    "\n",
    "plt.ylim(0, 0.80)\n",
    "plt.xlabel('Sexo')\n",
    "plt.ylabel('Média')\n",
    "plt.title('Média de sobreviventes por sexo')"
   ]
  },
  {
   "cell_type": "code",
   "execution_count": 48,
   "metadata": {
    "ExecuteTime": {
     "end_time": "2020-04-03T11:31:02.166120Z",
     "start_time": "2020-04-03T11:31:02.156242Z"
    }
   },
   "outputs": [
    {
     "name": "stdout",
     "output_type": "stream",
     "text": [
      "Impacto do tamanho da família no conjunto de dados:\n",
      "\n",
      "   tamanhoFamilia  sobrevivente\n",
      "3               4      0.724138\n",
      "2               3      0.578431\n",
      "1               2      0.552795\n",
      "6               7      0.333333\n",
      "0               1      0.303538\n",
      "4               5      0.200000\n",
      "5               6      0.136364\n",
      "7               8      0.000000\n",
      "8              11      0.000000\n"
     ]
    }
   ],
   "source": [
    "train['tamanhoFamilia'] = train['paisEfilhos'] + train['irmaosEconjunges'] + 1\n",
    "test['tamanhoFamilia'] = test['paisEfilhos'] + test['irmaosEconjunges'] + 1\n",
    "\n",
    "tamanhoFamilia = train[['tamanhoFamilia', 'sobrevivente']].groupby(['tamanhoFamilia'], \n",
    "                                                                as_index=False).mean().sort_values(by='sobrevivente', \n",
    "                                                                                                   ascending=False)\n",
    "print('Impacto do tamanho da família no conjunto de dados:\\n')\n",
    "print(tamanhoFamilia)"
   ]
  },
  {
   "cell_type": "code",
   "execution_count": 49,
   "metadata": {
    "ExecuteTime": {
     "end_time": "2020-04-03T11:31:03.235730Z",
     "start_time": "2020-04-03T11:31:03.056205Z"
    }
   },
   "outputs": [
    {
     "data": {
      "text/plain": [
       "Text(0.5, 1.0, 'Média de sobreviventes por tamanho da família')"
      ]
     },
     "execution_count": 49,
     "metadata": {},
     "output_type": "execute_result"
    },
    {
     "data": {
      "image/png": "[encoded data removed]",
      "text/plain": [
       "<Figure size 720x360 with 1 Axes>"
      ]
     },
     "metadata": {
      "needs_background": "light"
     },
     "output_type": "display_data"
    }
   ],
   "source": [
    "f, ax= plt.subplots(figsize=(10, 5))\n",
    "sns.barplot(x=tamanhoFamilia['tamanhoFamilia'], y=tamanhoFamilia['sobrevivente'])\n",
    "\n",
    "plt.ylim(0, 0.80)\n",
    "plt.xlabel('Tamanho da Familia')\n",
    "plt.ylabel('Média')\n",
    "plt.title('Média de sobreviventes por tamanho da família')"
   ]
  },
  {
   "cell_type": "code",
   "execution_count": 50,
   "metadata": {
    "ExecuteTime": {
     "end_time": "2020-04-03T11:31:04.144591Z",
     "start_time": "2020-04-03T11:31:04.128204Z"
    }
   },
   "outputs": [
    {
     "name": "stdout",
     "output_type": "stream",
     "text": [
      "Impacto do local de embarque no conjunto de dados:\n",
      "\n",
      "  embarque  sobrevivente\n",
      "0        C      0.553571\n",
      "1        Q      0.389610\n",
      "2        S      0.339009\n"
     ]
    }
   ],
   "source": [
    "embarque = train[['embarque', 'sobrevivente']].groupby(['embarque'], as_index=False).mean().sort_values(by='sobrevivente', \n",
    "                                                                                                     ascending=False)\n",
    "print('Impacto do local de embarque no conjunto de dados:\\n')\n",
    "print(embarque)"
   ]
  },
  {
   "cell_type": "code",
   "execution_count": 51,
   "metadata": {
    "ExecuteTime": {
     "end_time": "2020-04-03T11:31:05.217623Z",
     "start_time": "2020-04-03T11:31:05.085830Z"
    }
   },
   "outputs": [
    {
     "data": {
      "text/plain": [
       "Text(0.5, 1.0, 'Média de sobreviventes por local de embarque')"
      ]
     },
     "execution_count": 51,
     "metadata": {},
     "output_type": "execute_result"
    },
    {
     "data": {
      "image/png": "[encoded data removed]",
      "text/plain": [
       "<Figure size 720x360 with 1 Axes>"
      ]
     },
     "metadata": {
      "needs_background": "light"
     },
     "output_type": "display_data"
    }
   ],
   "source": [
    "f, ax= plt.subplots(figsize=(10, 5))\n",
    "sns.barplot(x=embarque['embarque'], y=embarque['sobrevivente'])\n",
    "\n",
    "plt.ylim(0, 0.60)\n",
    "plt.xlabel('Local de embarque')\n",
    "plt.ylabel('Média')\n",
    "plt.title('Média de sobreviventes por local de embarque')"
   ]
  },
  {
   "cell_type": "code",
   "execution_count": 52,
   "metadata": {
    "ExecuteTime": {
     "end_time": "2020-04-03T11:31:06.386812Z",
     "start_time": "2020-04-03T11:31:06.368584Z"
    }
   },
   "outputs": [
    {
     "name": "stdout",
     "output_type": "stream",
     "text": [
      "Impacto da idade no conjunto de dados:\n",
      "\n",
      "      faixaIdade  sobrevivente\n",
      "0  (-0.08, 16.0]      0.550000\n",
      "3   (48.0, 64.0]      0.434783\n",
      "2   (32.0, 48.0]      0.403226\n",
      "1   (16.0, 32.0]      0.344762\n",
      "4   (64.0, 80.0]      0.090909\n"
     ]
    }
   ],
   "source": [
    "train['faixaIdade'] = pd.cut(train['idade'], 5)\n",
    "test['faixaIdade'] =  pd.cut(test['idade'], 5)\n",
    "\n",
    "faixaIdade = train[['faixaIdade', 'sobrevivente']].groupby(['faixaIdade'], as_index=False).mean().sort_values(by='sobrevivente', \n",
    "                                                                                                           ascending=False)\n",
    "print('Impacto da idade no conjunto de dados:\\n')\n",
    "print(faixaIdade)"
   ]
  },
  {
   "cell_type": "code",
   "execution_count": 53,
   "metadata": {
    "ExecuteTime": {
     "end_time": "2020-04-03T11:31:07.607150Z",
     "start_time": "2020-04-03T11:31:07.444829Z"
    }
   },
   "outputs": [
    {
     "data": {
      "text/plain": [
       "Text(0.5, 1.0, 'Média de sobreviventes por faixa de idade')"
      ]
     },
     "execution_count": 53,
     "metadata": {},
     "output_type": "execute_result"
    },
    {
     "data": {
      "image/png": "[encoded data removed]",
      "text/plain": [
       "<Figure size 720x360 with 1 Axes>"
      ]
     },
     "metadata": {
      "needs_background": "light"
     },
     "output_type": "display_data"
    }
   ],
   "source": [
    "f, ax= plt.subplots(figsize=(10, 5))\n",
    "sns.barplot(x=faixaIdade['faixaIdade'], y=faixaIdade['sobrevivente'])\n",
    "\n",
    "plt.ylim(0, 0.60)\n",
    "plt.xlabel('Faixa de idade')\n",
    "plt.ylabel('Média')\n",
    "plt.title('Média de sobreviventes por faixa de idade')"
   ]
  },
  {
   "cell_type": "markdown",
   "metadata": {},
   "source": [
    "### Visualização dos dados"
   ]
  },
  {
   "cell_type": "code",
   "execution_count": 57,
   "metadata": {
    "ExecuteTime": {
     "end_time": "2020-04-03T11:31:55.967690Z",
     "start_time": "2020-04-03T11:31:55.938063Z"
    }
   },
   "outputs": [
    {
     "data": {
      "text/html": [
       "<div>\n",
       "<style scoped>\n",
       "    .dataframe tbody tr th:only-of-type {\n",
       "        vertical-align: middle;\n",
       "    }\n",
       "\n",
       "    .dataframe tbody tr th {\n",
       "        vertical-align: top;\n",
       "    }\n",
       "\n",
       "    .dataframe thead th {\n",
       "        text-align: right;\n",
       "    }\n",
       "</style>\n",
       "<table border=\"1\" class=\"dataframe\">\n",
       "  <thead>\n",
       "    <tr style=\"text-align: right;\">\n",
       "      <th></th>\n",
       "      <th>sobrevivente</th>\n",
       "      <th>classe</th>\n",
       "      <th>nome</th>\n",
       "      <th>sexo</th>\n",
       "      <th>idade</th>\n",
       "      <th>irmaosEconjunges</th>\n",
       "      <th>paisEfilhos</th>\n",
       "      <th>passagem</th>\n",
       "      <th>tarifa</th>\n",
       "      <th>embarque</th>\n",
       "      <th>tamanhoFamilia</th>\n",
       "      <th>faixaIdade</th>\n",
       "    </tr>\n",
       "  </thead>\n",
       "  <tbody>\n",
       "    <tr>\n",
       "      <th>0</th>\n",
       "      <td>0</td>\n",
       "      <td>3</td>\n",
       "      <td>Braund, Mr. Owen Harris</td>\n",
       "      <td>male</td>\n",
       "      <td>22</td>\n",
       "      <td>1</td>\n",
       "      <td>0</td>\n",
       "      <td>A/5 21171</td>\n",
       "      <td>7.2500</td>\n",
       "      <td>S</td>\n",
       "      <td>2</td>\n",
       "      <td>(16.0, 32.0]</td>\n",
       "    </tr>\n",
       "    <tr>\n",
       "      <th>1</th>\n",
       "      <td>1</td>\n",
       "      <td>1</td>\n",
       "      <td>Cumings, Mrs. John Bradley (Florence Briggs Th...</td>\n",
       "      <td>female</td>\n",
       "      <td>38</td>\n",
       "      <td>1</td>\n",
       "      <td>0</td>\n",
       "      <td>PC 17599</td>\n",
       "      <td>71.2833</td>\n",
       "      <td>C</td>\n",
       "      <td>2</td>\n",
       "      <td>(32.0, 48.0]</td>\n",
       "    </tr>\n",
       "    <tr>\n",
       "      <th>2</th>\n",
       "      <td>1</td>\n",
       "      <td>3</td>\n",
       "      <td>Heikkinen, Miss. Laina</td>\n",
       "      <td>female</td>\n",
       "      <td>26</td>\n",
       "      <td>0</td>\n",
       "      <td>0</td>\n",
       "      <td>STON/O2. 3101282</td>\n",
       "      <td>7.9250</td>\n",
       "      <td>S</td>\n",
       "      <td>1</td>\n",
       "      <td>(16.0, 32.0]</td>\n",
       "    </tr>\n",
       "    <tr>\n",
       "      <th>3</th>\n",
       "      <td>1</td>\n",
       "      <td>1</td>\n",
       "      <td>Futrelle, Mrs. Jacques Heath (Lily May Peel)</td>\n",
       "      <td>female</td>\n",
       "      <td>35</td>\n",
       "      <td>1</td>\n",
       "      <td>0</td>\n",
       "      <td>113803</td>\n",
       "      <td>53.1000</td>\n",
       "      <td>S</td>\n",
       "      <td>2</td>\n",
       "      <td>(32.0, 48.0]</td>\n",
       "    </tr>\n",
       "    <tr>\n",
       "      <th>4</th>\n",
       "      <td>0</td>\n",
       "      <td>3</td>\n",
       "      <td>Allen, Mr. William Henry</td>\n",
       "      <td>male</td>\n",
       "      <td>35</td>\n",
       "      <td>0</td>\n",
       "      <td>0</td>\n",
       "      <td>373450</td>\n",
       "      <td>8.0500</td>\n",
       "      <td>S</td>\n",
       "      <td>1</td>\n",
       "      <td>(32.0, 48.0]</td>\n",
       "    </tr>\n",
       "  </tbody>\n",
       "</table>\n",
       "</div>"
      ],
      "text/plain": [
       "   sobrevivente  classe                                               nome  \\\n",
       "0             0       3                            Braund, Mr. Owen Harris   \n",
       "1             1       1  Cumings, Mrs. John Bradley (Florence Briggs Th...   \n",
       "2             1       3                             Heikkinen, Miss. Laina   \n",
       "3             1       1       Futrelle, Mrs. Jacques Heath (Lily May Peel)   \n",
       "4             0       3                           Allen, Mr. William Henry   \n",
       "\n",
       "     sexo  idade  irmaosEconjunges  paisEfilhos          passagem   tarifa  \\\n",
       "0    male     22                 1            0         A/5 21171   7.2500   \n",
       "1  female     38                 1            0          PC 17599  71.2833   \n",
       "2  female     26                 0            0  STON/O2. 3101282   7.9250   \n",
       "3  female     35                 1            0            113803  53.1000   \n",
       "4    male     35                 0            0            373450   8.0500   \n",
       "\n",
       "  embarque  tamanhoFamilia    faixaIdade  \n",
       "0        S               2  (16.0, 32.0]  \n",
       "1        C               2  (32.0, 48.0]  \n",
       "2        S               1  (16.0, 32.0]  \n",
       "3        S               2  (32.0, 48.0]  \n",
       "4        S               1  (32.0, 48.0]  "
      ]
     },
     "execution_count": 57,
     "metadata": {},
     "output_type": "execute_result"
    }
   ],
   "source": [
    "train.head()"
   ]
  },
  {
   "cell_type": "markdown",
   "metadata": {},
   "source": [
    "#### Sobrevivente por idade"
   ]
  },
  {
   "cell_type": "code",
   "execution_count": 58,
   "metadata": {
    "ExecuteTime": {
     "end_time": "2020-04-03T11:31:59.052626Z",
     "start_time": "2020-04-03T11:31:58.521129Z"
    }
   },
   "outputs": [
    {
     "data": {
      "text/plain": [
       "<seaborn.axisgrid.FacetGrid at 0x7f1d20ad4310>"
      ]
     },
     "execution_count": 58,
     "metadata": {},
     "output_type": "execute_result"
    },
    {
     "data": {
      "image/png": "[encoded data removed]",
      "text/plain": [
       "<Figure size 432x216 with 2 Axes>"
      ]
     },
     "metadata": {
      "needs_background": "light"
     },
     "output_type": "display_data"
    }
   ],
   "source": [
    "g = sns.FacetGrid(train, col='sobrevivente')\n",
    "g.map(plt.hist, 'idade', bins=10)"
   ]
  },
  {
   "cell_type": "markdown",
   "metadata": {},
   "source": [
    "#### Sobrevivente por classe"
   ]
  },
  {
   "cell_type": "code",
   "execution_count": 59,
   "metadata": {
    "ExecuteTime": {
     "end_time": "2020-04-03T11:32:49.960554Z",
     "start_time": "2020-04-03T11:32:48.137992Z"
    }
   },
   "outputs": [
    {
     "data": {
      "text/plain": [
       "<seaborn.axisgrid.FacetGrid at 0x7f1d209be7d0>"
      ]
     },
     "execution_count": 59,
     "metadata": {},
     "output_type": "execute_result"
    },
    {
     "data": {
      "image/png": "[encoded data removed]",
      "text/plain": [
       "<Figure size 514.88x475.2 with 6 Axes>"
      ]
     },
     "metadata": {
      "needs_background": "light"
     },
     "output_type": "display_data"
    }
   ],
   "source": [
    "grid = sns.FacetGrid(train, col='sobrevivente', row='classe', size=2.2, aspect=1.6)\n",
    "grid.map(plt.hist, 'idade', alpha=.5, bins=20)\n",
    "grid.add_legend()"
   ]
  },
  {
   "cell_type": "markdown",
   "metadata": {},
   "source": [
    "#### Concatena os dados"
   ]
  },
  {
   "cell_type": "code",
   "execution_count": 60,
   "metadata": {
    "ExecuteTime": {
     "end_time": "2020-04-03T11:34:29.168475Z",
     "start_time": "2020-04-03T11:34:29.165949Z"
    }
   },
   "outputs": [],
   "source": [
    "nTrain = train.shape[0]\n",
    "nTest  = test.shape[0]"
   ]
  },
  {
   "cell_type": "code",
   "execution_count": 62,
   "metadata": {
    "ExecuteTime": {
     "end_time": "2020-04-03T11:34:47.007275Z",
     "start_time": "2020-04-03T11:34:46.993713Z"
    }
   },
   "outputs": [],
   "source": [
    "y = train.sobrevivente.values\n",
    "train.drop(['sobrevivente'], axis=1, inplace=True)"
   ]
  },
  {
   "cell_type": "code",
   "execution_count": 63,
   "metadata": {
    "ExecuteTime": {
     "end_time": "2020-04-03T11:34:48.036308Z",
     "start_time": "2020-04-03T11:34:48.026066Z"
    }
   },
   "outputs": [
    {
     "name": "stdout",
     "output_type": "stream",
     "text": [
      "Dataset shape: (1309, 11) \n"
     ]
    }
   ],
   "source": [
    "df = pd.concat((train, test)).reset_index(drop=True)\n",
    "print('Dataset shape: {} '.format(df.shape))"
   ]
  },
  {
   "cell_type": "markdown",
   "metadata": {},
   "source": [
    "#### Limpeza dos dados"
   ]
  },
  {
   "cell_type": "code",
   "execution_count": 64,
   "metadata": {
    "ExecuteTime": {
     "end_time": "2020-04-03T11:34:49.217023Z",
     "start_time": "2020-04-03T11:34:49.212952Z"
    }
   },
   "outputs": [],
   "source": [
    "df['sexo'] = df['sexo'].map({'female': 0, 'male': 1}).astype(int)"
   ]
  },
  {
   "cell_type": "code",
   "execution_count": 65,
   "metadata": {
    "ExecuteTime": {
     "end_time": "2020-04-03T11:34:50.325780Z",
     "start_time": "2020-04-03T11:34:50.321839Z"
    }
   },
   "outputs": [],
   "source": [
    "df['embarque'] = df['embarque'].map({'S': 0, 'C': 1, 'Q': 2}).astype(int)"
   ]
  },
  {
   "cell_type": "code",
   "execution_count": 66,
   "metadata": {
    "ExecuteTime": {
     "end_time": "2020-04-03T11:34:51.429241Z",
     "start_time": "2020-04-03T11:34:51.410224Z"
    }
   },
   "outputs": [],
   "source": [
    "df.loc[df['idade'] <= 16, 'idade'] = 0\n",
    "df.loc[df['idade'] <= 32, 'idade'] = 1\n",
    "df.loc[df['idade'] <= 48, 'idade'] = 2\n",
    "df.loc[df['idade'] <= 64, 'idade'] = 3\n",
    "df.loc[df['idade'] > 64,  'idade'] = 4"
   ]
  },
  {
   "cell_type": "code",
   "execution_count": 67,
   "metadata": {
    "ExecuteTime": {
     "end_time": "2020-04-03T11:34:52.487243Z",
     "start_time": "2020-04-03T11:34:52.481092Z"
    }
   },
   "outputs": [],
   "source": [
    "df['estaSozinho'] = 0\n",
    "df.loc[df['tamanhoFamilia'] == 1, 'estaSozinho'] = 1"
   ]
  },
  {
   "cell_type": "markdown",
   "metadata": {},
   "source": [
    "#### Seleção de recursos"
   ]
  },
  {
   "cell_type": "code",
   "execution_count": 68,
   "metadata": {
    "ExecuteTime": {
     "end_time": "2020-04-03T11:34:53.579494Z",
     "start_time": "2020-04-03T11:34:53.576338Z"
    }
   },
   "outputs": [],
   "source": [
    "df.drop(['nome', 'tarifa', 'passagem', 'faixaIdade'], axis=1, inplace=True)"
   ]
  },
  {
   "cell_type": "markdown",
   "metadata": {},
   "source": [
    "### Correlação de Pearson"
   ]
  },
  {
   "cell_type": "code",
   "execution_count": 69,
   "metadata": {
    "ExecuteTime": {
     "end_time": "2020-04-03T11:34:54.962248Z",
     "start_time": "2020-04-03T11:34:54.581554Z"
    }
   },
   "outputs": [
    {
     "data": {
      "text/plain": [
       "<matplotlib.axes._subplots.AxesSubplot at 0x7f1d2049a450>"
      ]
     },
     "execution_count": 69,
     "metadata": {},
     "output_type": "execute_result"
    },
    {
     "data": {
      "image/png": "[encoded data removed]",
      "text/plain": [
       "<Figure size 1080x720 with 2 Axes>"
      ]
     },
     "metadata": {
      "needs_background": "light"
     },
     "output_type": "display_data"
    }
   ],
   "source": [
    "plt.figure(figsize=(15, 10))\n",
    "plt.title('Correlação de Person dos recursos', y=1.05, size=15)\n",
    "sns.heatmap(df.corr(), linewidths=0.1, vmax=1.0, square=True, cmap=plt.cm.gist_yarg, linecolor='white', annot=True)"
   ]
  }
 ],
 "metadata": {
  "hide_input": false,
  "kernelspec": {
   "display_name": "Python 3",
   "language": "python",
   "name": "python3"
  },
  "language_info": {
   "codemirror_mode": {
    "name": "ipython",
    "version": 3
   },
   "file_extension": ".py",
   "mimetype": "text/x-python",
   "name": "python",
   "nbconvert_exporter": "python",
   "pygments_lexer": "ipython3",
   "version": "3.7.5"
  },
  "toc": {
   "base_numbering": 1,
   "nav_menu": {},
   "number_sections": false,
   "sideBar": false,
   "skip_h1_title": false,
   "title_cell": "Table of Contents",
   "title_sidebar": "Contents",
   "toc_cell": false,
   "toc_position": {},
   "toc_section_display": false,
   "toc_window_display": false
  },
  "varInspector": {
   "cols": {
    "lenName": 16,
    "lenType": 16,
    "lenVar": 40
   },
   "kernels_config": {
    "python": {
     "delete_cmd_postfix": "",
     "delete_cmd_prefix": "del ",
     "library": "var_list.py",
     "varRefreshCmd": "print(var_dic_list())"
    },
    "r": {
     "delete_cmd_postfix": ") ",
     "delete_cmd_prefix": "rm(",
     "library": "var_list.r",
     "varRefreshCmd": "cat(var_dic_list()) "
    }
   },
   "types_to_exclude": [
    "module",
    "function",
    "builtin_function_or_method",
    "instance",
    "_Feature"
   ],
   "window_display": false
  }
 },
 "nbformat": 4,
 "nbformat_minor": 4
}
